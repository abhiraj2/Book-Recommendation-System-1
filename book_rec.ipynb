{
 "cells": [
  {
   "cell_type": "code",
   "execution_count": 16,
   "metadata": {
    "scrolled": true
   },
   "outputs": [
    {
     "name": "stdout",
     "output_type": "stream",
     "text": [
      "Enter rating w/wo <rating> or random or author <name> for book suggestion\n",
      "You can also type 'top5' in order to show the top 5 authors on the basis of average ratings\n",
      "enter to search top5\n"
     ]
    },
    {
     "data": {
      "image/png": "[encoded data removed]",
      "text/plain": [
       "<Figure size 1440x360 with 1 Axes>"
      ]
     },
     "metadata": {
      "needs_background": "light"
     },
     "output_type": "display_data"
    },
    {
     "name": "stdout",
     "output_type": "stream",
     "text": [
      "None\n"
     ]
    }
   ],
   "source": [
    "# Importing libraries\n",
    "import pandas as pd\n",
    "import numpy as np\n",
    "import matplotlib.pyplot as plt\n",
    "def recommendation():\n",
    "    \n",
    "    print(\"Enter rating w/wo <rating> or random or author <name> for book suggestion\")\n",
    "    print(\"You can also type 'top5' in order to show the top 5 authors on the basis of average ratings\")\n",
    "    search= input(\"enter to search \")\n",
    "    \n",
    "    # Read csv file into a pandas dataframe\n",
    "    df = pd.read_csv(\"books.csv\")\n",
    "    df = df[df.language_code =='eng']\n",
    "    df['Title'] = df['title'].str.split('(').str[0]\n",
    "    \n",
    "    \n",
    "    author_list = df['authors'].values.tolist()\n",
    "    new_list = []\n",
    "    \n",
    "    for i in author_list:\n",
    "        if i not in new_list:\n",
    "            new_list.append(i)\n",
    "        else:\n",
    "            continue\n",
    "    \n",
    "    result = []\n",
    "    \n",
    "    \n",
    "    for i in new_list:\n",
    "        df_temp = df[df['authors'].astype(str) == i]\n",
    "        rating = df_temp['rating'].values.tolist()\n",
    "        rating = list(np.float_(rating))\n",
    "        avg_rating = sum(rating)/len(rating)\n",
    "        result.append([i, avg_rating])\n",
    "    result.sort(key=lambda x:x[1], reverse=True)\n",
    "    \n",
    "    \n",
    "    result_authors = []\n",
    "    result_rating = []\n",
    "    \n",
    "    for i in range(5):\n",
    "        result_authors.append(result[i][0])\n",
    "        result_rating.append(result[i][1])\n",
    "    \n",
    "    \n",
    "    if search==\"random\":\n",
    "        df_new= df.sample(replace=True)[['Title', 'authors',\"rating\"]]\n",
    "        print(\"Title: \", df_new[['Title']].to_string(index=False, header=False))\n",
    "        print(\"Author: \", df_new[['authors']].to_string(index=False, header=False))\n",
    "        print(\"Rating: \", df_new[['rating']].to_string(index=False, header=False))\n",
    "        return \"Enjoy!\"\n",
    "    elif \"rating\" in search:\n",
    "        search=search.split()\n",
    "        rate=float(search[1])\n",
    "        df_rate = df[df['rating'].astype(float) >= rate]\n",
    "        df_new= df_rate.sample(replace=True)[['Title', 'authors',\"rating\"]]\n",
    "        print(\"Title: \", df_new[['Title']].to_string(index=False, header=False))\n",
    "        print(\"Author: \", df_new[['authors']].to_string(index=False, header=False))\n",
    "        print(\"Rating: \", df_new[['rating']].to_string(index=False, header=False))\n",
    "        return \"Enjoy!\"\n",
    "    elif \"author\" in search:\n",
    "        search=search[7:] # input should be like: author <Name>\n",
    "        author = str(search)\n",
    "        df_auth = df[df['authors'].astype(str) == author]\n",
    "        titles = df_auth['title'].values.tolist()\n",
    "        rating = df_auth['rating'].values.tolist()\n",
    "        for i in range(len(titles)):\n",
    "            print(str(i+1) + \": Title: \" + titles[i] + \" Rating:\" + rating[i] + \"\\n\")\n",
    "        return \"Enjoy!\"\n",
    "    elif \"top5\" in search:\n",
    "        fig = plt.figure(figsize = (20, 5))\n",
    "        plt.bar(result_authors, result_rating, color = 'maroon', width=0.4)\n",
    "        plt.xlabel(\"Author Name\")\n",
    "        plt.ylabel(\"Average Rating\")\n",
    "        plt.title(\"Top 5 authors on the basis of Ratings\")\n",
    "        plt.show()\n",
    "        \n",
    "            \n",
    "print(recommendation())"
   ]
  },
  {
   "cell_type": "code",
   "execution_count": null,
   "metadata": {},
   "outputs": [],
   "source": []
  },
  {
   "cell_type": "code",
   "execution_count": null,
   "metadata": {},
   "outputs": [],
   "source": []
  },
  {
   "cell_type": "code",
   "execution_count": null,
   "metadata": {},
   "outputs": [],
   "source": []
  },
  {
   "cell_type": "code",
   "execution_count": null,
   "metadata": {},
   "outputs": [],
   "source": []
  }
 ],
 "metadata": {
  "kernelspec": {
   "display_name": "Python 3",
   "language": "python",
   "name": "python3"
  },
  "language_info": {
   "codemirror_mode": {
    "name": "ipython",
    "version": 3
   },
   "file_extension": ".py",
   "mimetype": "text/x-python",
   "name": "python",
   "nbconvert_exporter": "python",
   "pygments_lexer": "ipython3",
   "version": "3.8.8"
  }
 },
 "nbformat": 4,
 "nbformat_minor": 4
}
